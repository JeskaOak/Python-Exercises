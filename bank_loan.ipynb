{
  "nbformat": 4,
  "nbformat_minor": 0,
  "metadata": {
    "colab": {
      "provenance": [],
      "authorship_tag": "ABX9TyPUko42x+4legmbEjHVhI1U",
      "include_colab_link": true
    },
    "kernelspec": {
      "name": "python3",
      "display_name": "Python 3"
    },
    "language_info": {
      "name": "python"
    }
  },
  "cells": [
    {
      "cell_type": "markdown",
      "metadata": {
        "id": "view-in-github",
        "colab_type": "text"
      },
      "source": [
        "<a href=\"https://colab.research.google.com/github/JeskaOak/Python-Exercises/blob/main/bank_loan.ipynb\" target=\"_parent\"><img src=\"https://colab.research.google.com/assets/colab-badge.svg\" alt=\"Open In Colab\"/></a>"
      ]
    },
    {
      "cell_type": "markdown",
      "source": [
        "### Bank Loan\n",
        "\n",
        "Write a code to approve a bank loan for the purchase of a house. The program must ask:\n",
        "- the house value\n",
        "- the buyer’s salary \n",
        "- how many years he will pay \n",
        "\n",
        "At the end, say the value of monthly installment, knowing that can’t exceed 30% of the buyer’s salary, otherwise, the loan will be denied.\n"
      ],
      "metadata": {
        "id": "cTlUI38GfuFD"
      }
    },
    {
      "cell_type": "code",
      "execution_count": null,
      "metadata": {
        "id": "zOa6tJSTfpE2"
      },
      "outputs": [],
      "source": [
        "house_value = float(input('House value: R$'))\n",
        "salary = float(input('Salary: R$'))\n",
        "years = int(input('Years of financing: '))\n",
        "converting_year_to_month = years * 12\n",
        "monthly_installment = house_value / converting_year_to_month\n",
        "\n",
        "if monthly_installment > (0.3 * salary):\n",
        "  print('Loan denied.')\n",
        "else:\n",
        "  print(f'Loan approved.\\nMonthly installment: R${monthly_installment:.2f}\\nQuantidade de parcelas: {converting_year_to_month}')"
      ]
    }
  ]
}