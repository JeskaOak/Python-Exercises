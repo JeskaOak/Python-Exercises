{
  "nbformat": 4,
  "nbformat_minor": 0,
  "metadata": {
    "colab": {
      "provenance": [],
      "authorship_tag": "ABX9TyPJt/AKODI0QzgpH6RE6S92",
      "include_colab_link": true
    },
    "kernelspec": {
      "name": "python3",
      "display_name": "Python 3"
    },
    "language_info": {
      "name": "python"
    }
  },
  "cells": [
    {
      "cell_type": "markdown",
      "metadata": {
        "id": "view-in-github",
        "colab_type": "text"
      },
      "source": [
        "<a href=\"https://colab.research.google.com/github/JeskaOak/Python-Exercises/blob/main/factorial_function.ipynb\" target=\"_parent\"><img src=\"https://colab.research.google.com/assets/colab-badge.svg\" alt=\"Open In Colab\"/></a>"
      ]
    },
    {
      "cell_type": "code",
      "execution_count": null,
      "metadata": {
        "id": "fLW77zalhLwb"
      },
      "outputs": [],
      "source": [
        "def factorial(num):\n",
        "  num_2 = num\n",
        "  factorial = 1\n",
        "\n",
        "  while num_2 > 0:\n",
        "    factorial *= num_2\n",
        "    num_2 -= 1\n",
        "  return factorial\n"
      ]
    }
  ]
}