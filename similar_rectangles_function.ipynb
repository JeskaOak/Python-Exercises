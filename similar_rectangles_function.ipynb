{
  "nbformat": 4,
  "nbformat_minor": 0,
  "metadata": {
    "colab": {
      "provenance": [],
      "authorship_tag": "ABX9TyMF9pz8PK5ShxUeBBbCSQM2",
      "include_colab_link": true
    },
    "kernelspec": {
      "name": "python3",
      "display_name": "Python 3"
    },
    "language_info": {
      "name": "python"
    }
  },
  "cells": [
    {
      "cell_type": "markdown",
      "metadata": {
        "id": "view-in-github",
        "colab_type": "text"
      },
      "source": [
        "<a href=\"https://colab.research.google.com/github/JeskaOak/Python-Exercises/blob/main/similar_rectangles_function.ipynb\" target=\"_parent\"><img src=\"https://colab.research.google.com/assets/colab-badge.svg\" alt=\"Open In Colab\"/></a>"
      ]
    },
    {
      "cell_type": "code",
      "execution_count": 1,
      "metadata": {
        "id": "Pm_i9L0EUJbp"
      },
      "outputs": [],
      "source": [
        "def similar_rectangles(sizes_list):\n",
        "  proportion = []\n",
        "\n",
        "  for i in sizes_list:\n",
        "    proportion.append(i[0]/i[1])\n",
        "  \n",
        "  proportion_list = []\n",
        "\n",
        "  for i in proportion:\n",
        "    if proportion.count(i) > 1:\n",
        "      proportion_list.append([i, proportion.count(i)])\n",
        "  \n",
        "  unique_proportion = []\n",
        "\n",
        "  for i in proportion_list:\n",
        "    if i not in unique_proportion:\n",
        "      unique_proportion.append(i)\n",
        "  \n",
        "  similar_rectangles_sum = 0\n",
        "\n",
        "  for i in unique_proportion:\n",
        "    similar_rectangles_sum += i[1]\n",
        "  \n",
        "  return similar_rectangles_sum"
      ]
    }
  ]
}