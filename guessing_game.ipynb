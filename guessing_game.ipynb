{
  "nbformat": 4,
  "nbformat_minor": 0,
  "metadata": {
    "colab": {
      "provenance": [],
      "authorship_tag": "ABX9TyMaHmLt7tqztONev3UytUgb",
      "include_colab_link": true
    },
    "kernelspec": {
      "name": "python3",
      "display_name": "Python 3"
    },
    "language_info": {
      "name": "python"
    }
  },
  "cells": [
    {
      "cell_type": "markdown",
      "metadata": {
        "id": "view-in-github",
        "colab_type": "text"
      },
      "source": [
        "<a href=\"https://colab.research.google.com/github/JeskaOak/Python-Exercises/blob/main/guessing_game.ipynb\" target=\"_parent\"><img src=\"https://colab.research.google.com/assets/colab-badge.svg\" alt=\"Open In Colab\"/></a>"
      ]
    },
    {
      "cell_type": "markdown",
      "source": [
        "## Guess the number chosen by the computer"
      ],
      "metadata": {
        "id": "i2yPV0nPjkIE"
      }
    },
    {
      "cell_type": "code",
      "source": [
        "# Import module\n",
        "import random\n",
        "\n",
        "# Variables\n",
        "computer_number = random.randint(0,10)\n",
        "user_guess = 0\n",
        "guessed_right = False\n",
        "\n",
        "while not guessed_right:\n",
        "  user_number = int(input('Guess the number chosen by the computer. It ranges from 0 to 10.\\n'))\n",
        "  user_guess += 1\n",
        "\n",
        "  if computer_number == user_number:\n",
        "    print('Congratulations! You guessed it!')\n",
        "    print(f'Total guesses: {user_guess}')\n",
        "    guessed_right = True\n",
        "  else:\n",
        "    if user_number > computer_number:\n",
        "      print('Less...')\n",
        "    else:\n",
        "      print('More...')"
      ],
      "metadata": {
        "colab": {
          "base_uri": "https://localhost:8080/"
        },
        "id": "Ncxszdj8jjnT",
        "outputId": "4a240190-952b-4cfd-96f9-12701b996257"
      },
      "execution_count": null,
      "outputs": [
        {
          "output_type": "stream",
          "name": "stdout",
          "text": [
            "Guess the number chosen by the computer. It ranges from 0 to 10.\n",
            "6\n",
            "More...\n",
            "Guess the number chosen by the computer. It ranges from 0 to 10.\n",
            "7\n",
            "More...\n",
            "Guess the number chosen by the computer. It ranges from 0 to 10.\n",
            "8\n",
            "More...\n",
            "Guess the number chosen by the computer. It ranges from 0 to 10.\n",
            "9\n",
            "Congratulations! You guessed it!\n",
            "Total guesses: 4\n"
          ]
        }
      ]
    }
  ]
}