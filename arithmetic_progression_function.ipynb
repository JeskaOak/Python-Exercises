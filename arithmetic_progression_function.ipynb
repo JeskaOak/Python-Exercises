{
  "nbformat": 4,
  "nbformat_minor": 0,
  "metadata": {
    "colab": {
      "provenance": [],
      "authorship_tag": "ABX9TyOwCZ8E4U9XMJS37j31esXW",
      "include_colab_link": true
    },
    "kernelspec": {
      "name": "python3",
      "display_name": "Python 3"
    },
    "language_info": {
      "name": "python"
    }
  },
  "cells": [
    {
      "cell_type": "markdown",
      "metadata": {
        "id": "view-in-github",
        "colab_type": "text"
      },
      "source": [
        "<a href=\"https://colab.research.google.com/github/JeskaOak/Python-Exercises/blob/main/arithmetic_progression_function.ipynb\" target=\"_parent\"><img src=\"https://colab.research.google.com/assets/colab-badge.svg\" alt=\"Open In Colab\"/></a>"
      ]
    },
    {
      "cell_type": "code",
      "execution_count": null,
      "metadata": {
        "id": "PAFh914dny2w"
      },
      "outputs": [],
      "source": [
        "def arithmetic_progression(term, common_difference, term_quantity):\n",
        "  counter = 1\n",
        "  accumulator = 0\n",
        "  numbers = [term]\n",
        "  while counter < term_quantity:\n",
        "    term += common_difference\n",
        "    numbers.append(term)\n",
        "    counter += 1\n",
        "\n",
        "  return numbers\n",
        "\n"
      ]
    }
  ]
}