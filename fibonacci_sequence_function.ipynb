{
  "nbformat": 4,
  "nbformat_minor": 0,
  "metadata": {
    "colab": {
      "provenance": [],
      "authorship_tag": "ABX9TyOdysApgYUi3pMA7MoSBtej",
      "include_colab_link": true
    },
    "kernelspec": {
      "name": "python3",
      "display_name": "Python 3"
    },
    "language_info": {
      "name": "python"
    }
  },
  "cells": [
    {
      "cell_type": "markdown",
      "metadata": {
        "id": "view-in-github",
        "colab_type": "text"
      },
      "source": [
        "<a href=\"https://colab.research.google.com/github/JeskaOak/Python-Exercises/blob/main/fibonacci_sequence_function.ipynb\" target=\"_parent\"><img src=\"https://colab.research.google.com/assets/colab-badge.svg\" alt=\"Open In Colab\"/></a>"
      ]
    },
    {
      "cell_type": "code",
      "execution_count": null,
      "metadata": {
        "id": "qj2w6nft5V-8"
      },
      "outputs": [],
      "source": [
        "def fibonacci(terms_quantity):\n",
        "  \n",
        "  term_1 = 1\n",
        "  term_2 = 1\n",
        "  sum_terms = 0\n",
        "  counter = 0\n",
        "  fibonacci_list = []\n",
        "\n",
        "  while counter < terms_quantity:\n",
        "    sum_terms = term_1 + term_2\n",
        "    fibonacci_list.append(term_1)\n",
        "    term_2 = term_1\n",
        "    term_1 = sum_terms\n",
        "    counter += 1     \n",
        "    \n",
        "\n",
        "  return fibonacci_list\n",
        "  \n",
        "\n",
        "  "
      ]
    }
  ]
}